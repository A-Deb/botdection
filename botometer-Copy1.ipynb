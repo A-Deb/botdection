{
 "cells": [
  {
   "cell_type": "code",
   "execution_count": 2,
   "metadata": {},
   "outputs": [
    {
     "name": "stdout",
     "output_type": "stream",
     "text": [
      "{'cap': {'english': 0.0014187924969112314, 'universal': 0.003940623559956331}, 'categories': {'content': 0.11025033271260462, 'friend': 0.11264701462189411, 'network': 0.10416612598937423, 'sentiment': 0.13921966625975693, 'temporal': 0.2403281187415198, 'user': 0.0435167178071457}, 'display_scores': {'content': 0.6, 'english': 0.2, 'friend': 0.6, 'network': 0.5, 'sentiment': 0.7, 'temporal': 1.2, 'universal': 0.4, 'user': 0.2}, 'scores': {'english': 0.03265990956683609, 'universal': 0.08899515596679244}, 'user': {'id_str': '1548959833', 'screen_name': 'clayadavis'}}\n",
      "{'cap': {'english': 0.0019457839054003979, 'universal': 0.0043042404804791}, 'categories': {'content': 0.19935698741177266, 'friend': 0.16863713142666406, 'network': 0.08358138135822211, 'sentiment': 0.1559590986380373, 'temporal': 0.12382203350771001, 'user': 0.11052964125288997}, 'display_scores': {'content': 1.0, 'english': 0.3, 'friend': 0.8, 'network': 0.4, 'sentiment': 0.8, 'temporal': 0.6, 'universal': 0.5, 'user': 0.6}, 'scores': {'english': 0.05333128056896264, 'universal': 0.09590276214117437}, 'user': {'id_str': '77436536', 'screen_name': 'onurvarol'}}\n",
      "{'cap': {'english': 0.001725457650971877, 'universal': 0.0029102973297387607}, 'categories': {'content': 0.17800952303063913, 'friend': 0.18825140173775975, 'network': 0.06676132921697801, 'sentiment': 0.06780783386008177, 'temporal': 0.06669571356978159, 'user': 0.03482447811460989}, 'display_scores': {'content': 0.9, 'english': 0.2, 'friend': 0.9, 'network': 0.3, 'sentiment': 0.3, 'temporal': 0.3, 'universal': 0.3, 'user': 0.2}, 'scores': {'english': 0.045343501437382056, 'universal': 0.06565556198004287}, 'user': {'id_str': '17354555', 'screen_name': 'jabawack'}}\n"
     ]
    }
   ],
   "source": [
    "import botometer\n",
    "\n",
    "mashape_key = 'rUoTFrsTkDmshVhF4ieGHYejtAVnp1qEIF4jsnXEev3kTpKm76'\n",
    "twitter_app_auth = {\n",
    "    'consumer_key': 'x9w3JASMDQTrzm4XOo3UC1EOg',\n",
    "    'consumer_secret': 'x7GZyR2DMDlcS2NF4f1HZ0FMJEcxMvy95vbBWmouCgwqY9y5mT',\n",
    "    'access_token': '1058745831287775232-afnllPoFoCkZvS8KIgGkjvO9Ry2ohF',\n",
    "    'access_token_secret': 'eoo6MjIbmOO9E1WENJmReYcoJH16o6ptV6hBCyybN5OA8',\n",
    "  }\n",
    "\n",
    "\n",
    "\n",
    "\n",
    "bom = botometer.Botometer(wait_on_ratelimit=True,\n",
    "                          mashape_key=mashape_key,\n",
    "                          **twitter_app_auth)\n",
    "\n",
    "# Check a single account by screen name\n",
    "# result = bom.check_account('@clayadavis')\n",
    "\n",
    "# Check a single account by id\n",
    "# result = bom.check_account(1548959833)\n",
    "\n",
    "# Check a sequence of accounts\n",
    "accounts = ['@clayadavis', '@onurvarol', '@jabawack']\n",
    "for screen_name, result in bom.check_accounts_in(accounts):\n",
    "    print(result)\n",
    "    # Do stuff with `screen_name` and `result`"
   ]
  },
  {
   "cell_type": "code",
   "execution_count": null,
   "metadata": {
    "collapsed": true
   },
   "outputs": [],
   "source": [
    "result"
   ]
  },
  {
   "cell_type": "code",
   "execution_count": 6,
   "metadata": {},
   "outputs": [
    {
     "data": {
      "text/plain": [
       "'jabawack'"
      ]
     },
     "execution_count": 6,
     "metadata": {},
     "output_type": "execute_result"
    }
   ],
   "source": [
    "result['user']['screen_name']"
   ]
  },
  {
   "cell_type": "code",
   "execution_count": 10,
   "metadata": {},
   "outputs": [
    {
     "data": {
      "text/plain": [
       "0.06565556198004287"
      ]
     },
     "execution_count": 10,
     "metadata": {},
     "output_type": "execute_result"
    }
   ],
   "source": [
    "result['scores']['universal']"
   ]
  },
  {
   "cell_type": "code",
   "execution_count": 13,
   "metadata": {},
   "outputs": [
    {
     "data": {
      "text/plain": [
       "0.2"
      ]
     },
     "execution_count": 13,
     "metadata": {},
     "output_type": "execute_result"
    }
   ],
   "source": [
    "result['display_scores']['user']"
   ]
  },
  {
   "cell_type": "code",
   "execution_count": null,
   "metadata": {
    "collapsed": true
   },
   "outputs": [],
   "source": [
    "0.2/5"
   ]
  },
  {
   "cell_type": "code",
   "execution_count": 7,
   "metadata": {
    "collapsed": true
   },
   "outputs": [],
   "source": [
    "accounts=[\n",
    "    '@0000ctp',\n",
    "'@007Madman',\n",
    "'@01001bb',\n",
    "'@157',\n",
    "'@0206PJH',\n",
    "'@3007890287',\n",
    "'@0311_Tennessee',\n",
    "'@3323353770',\n",
    "'@0417qr',\n",
    "'@048Lopez',\n",
    "'@530188886',\n",
    "'@0731SE',\n",
    "'@0834khj',\n",
    "'@0Billyswizzle',\n",
    "'@0NtpB5Kt5tkg99v',\n",
    "'@0miiiin',\n",
    "'@1001dirtyqtips',\n",
    "'@10021',\n",
    "'@1015VEE',\n",
    "'@1017eph',\n",
    "'@101DullMartians',\n",
    "'@1024102410',\n",
    "'@10_Foot_Man',\n",
    "'@10si0n',\n",
    "'@111333ali',\n",
    "'@11super9ca',\n",
    "'@12253102',\n",
    "'@1234567Rev',\n",
    "'@123HamOnt',\n",
    "'@12Steve3',\n",
    "'@...',\n",
    "'@yourfavbeaute',\n",
    "'@yourlifepal',\n",
    "'@yousofunny55',\n",
    "'@youthinvodka',\n",
    "'@yoviagosto',\n",
    "'@yoyourhonor',\n",
    "'@yukiihiras',\n",
    "'@yulizamoraa',\n",
    "'@yungdaggerkid',\n",
    "'@yungmonstercan',\n",
    "'@yutaluver',\n",
    "'@yyncqphvpp',\n",
    "'@zacharielsoda',\n",
    "'@zagawybixaze',\n",
    "'@zah456raz',\n",
    "'@zahnol',\n",
    "'@zanetravis_5',\n",
    "'@zaqefiryquq',\n",
    "'@zard1061400',\n",
    "'@zcrgrl_VOTEBLUE',\n",
    "'@zeesewhappy2bme',\n",
    "'@zeezeekhan',\n",
    "'@zejisyhozub',\n",
    "'@zemphys_',\n",
    "'@zephanypictures',\n",
    "'@ziwi_liu',\n",
    "'@zofiacallahan40',\n",
    "'@zotimapibij',\n",
    "'@zunnshun',\n",
    "'@zuzysemagar'\n",
    "]"
   ]
  },
  {
   "cell_type": "code",
   "execution_count": 8,
   "metadata": {},
   "outputs": [
    {
     "data": {
      "text/plain": [
       "61"
      ]
     },
     "execution_count": 8,
     "metadata": {},
     "output_type": "execute_result"
    }
   ],
   "source": [
    "len(accounts)"
   ]
  },
  {
   "cell_type": "code",
   "execution_count": null,
   "metadata": {
    "collapsed": true
   },
   "outputs": [],
   "source": []
  }
 ],
 "metadata": {
  "kernelspec": {
   "display_name": "Python 3",
   "language": "python",
   "name": "python3"
  },
  "language_info": {
   "codemirror_mode": {
    "name": "ipython",
    "version": 3
   },
   "file_extension": ".py",
   "mimetype": "text/x-python",
   "name": "python",
   "nbconvert_exporter": "python",
   "pygments_lexer": "ipython3",
   "version": "3.6.3"
  }
 },
 "nbformat": 4,
 "nbformat_minor": 2
}
